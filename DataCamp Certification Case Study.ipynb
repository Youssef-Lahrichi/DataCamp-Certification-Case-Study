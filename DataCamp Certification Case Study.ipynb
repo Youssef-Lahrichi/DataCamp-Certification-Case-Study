{
 "cells": [
  {
   "cell_type": "markdown",
   "id": "homeless-quality",
   "metadata": {
    "id": "bA5ajAmk7XH6"
   },
   "source": [
    "# DataCamp Certification Case Study\n",
    "\n",
    "### Project Brief\n",
    "\n",
    "Congratulations, you have landed your first job as a data scientist at National Accessibility! National Accessibility currently installs wheelchair ramps for office buildings and schools. However, the marketing manager wants the company to start installing ramps for event venues as well. According to a new survey, approximately 40% of event venues are not wheelchair accessible. However, it is not easy to know whether a venue already has a ramp installed. \n",
    "\n",
    "The marketing manager would like to know whether you can develop a model to predict whether an event venue has a wheelchair ramp. To help you with this, he has provided you with a dataset of London venues. This data includes whether the venue has a ramp.\n",
    "\n",
    "It is a waste of time to contact venues that already have a ramp installed, and it also looks bad for the company. Therefore, it is especially important to exclude locations that already have a ramp. Ideally, at least two-thirds of venues predicted to be without a ramp should not have a ramp. \n",
    "\n",
    "You will need to present your findings in two formats:\n",
    "- First, you will need to present your findings to the marketing manager via a 10 minute oral presentation. The owner has no technical data science background. \n",
    "- You will also need to submit a technical report to your manager, who does have a strong technical data science background.\n",
    "\n",
    "The data you will use for this analysis can be accessed here: `\"data/event_venues.csv\"`"
   ]
  },
  {
   "cell_type": "code",
   "execution_count": 2,
   "id": "dramatic-hampshire",
   "metadata": {
    "scrolled": true
   },
   "outputs": [],
   "source": [
    "# Import all necessary packages.\n",
    "import pandas as pd\n",
    "import matplotlib.pyplot as plt\n",
    "import seaborn as sns\n",
    "import numpy as np\n",
    "import scipy.stats as stats\n",
    "from sklearn.preprocessing import MinMaxScaler\n",
    "from sklearn.model_selection import train_test_split, GridSearchCV\n",
    "from sklearn.linear_model import LogisticRegression\n",
    "\n",
    "\n",
    "\n",
    "\n",
    "pd.set_option('display.max_rows', None)"
   ]
  },
  {
   "cell_type": "code",
   "execution_count": 3,
   "id": "6464fca6-97f3-418e-a5e3-392161cd919d",
   "metadata": {},
   "outputs": [],
   "source": [
    "dataset = pd.read_csv('data/event_venues.csv')"
   ]
  },
  {
   "cell_type": "markdown",
   "id": "5c657f86-a1b3-4fc9-845f-38f032571a62",
   "metadata": {},
   "source": [
    "# Exploratory Data Analysis (EDA)"
   ]
  },
  {
   "cell_type": "code",
   "execution_count": 4,
   "id": "03a28852-0119-4ea7-a5ed-2bf1f941313a",
   "metadata": {},
   "outputs": [
    {
     "data": {
      "text/html": [
       "<div>\n",
       "<style scoped>\n",
       "    .dataframe tbody tr th:only-of-type {\n",
       "        vertical-align: middle;\n",
       "    }\n",
       "\n",
       "    .dataframe tbody tr th {\n",
       "        vertical-align: top;\n",
       "    }\n",
       "\n",
       "    .dataframe thead th {\n",
       "        text-align: right;\n",
       "    }\n",
       "</style>\n",
       "<table border=\"1\" class=\"dataframe\">\n",
       "  <thead>\n",
       "    <tr style=\"text-align: right;\">\n",
       "      <th></th>\n",
       "      <th>venue_name</th>\n",
       "      <th>Loud music / events</th>\n",
       "      <th>Venue provides alcohol</th>\n",
       "      <th>Wi-Fi</th>\n",
       "      <th>supervenue</th>\n",
       "      <th>U-Shaped_max</th>\n",
       "      <th>max_standing</th>\n",
       "      <th>Theatre_max</th>\n",
       "      <th>Promoted / ticketed events</th>\n",
       "      <th>Wheelchair accessible</th>\n",
       "    </tr>\n",
       "  </thead>\n",
       "  <tbody>\n",
       "    <tr>\n",
       "      <th>0</th>\n",
       "      <td>techspace aldgate east</td>\n",
       "      <td>False</td>\n",
       "      <td>0</td>\n",
       "      <td>True</td>\n",
       "      <td>False</td>\n",
       "      <td>35.045455</td>\n",
       "      <td>0</td>\n",
       "      <td>112.715867</td>\n",
       "      <td>False</td>\n",
       "      <td>False</td>\n",
       "    </tr>\n",
       "    <tr>\n",
       "      <th>1</th>\n",
       "      <td>green rooms hotel</td>\n",
       "      <td>True</td>\n",
       "      <td>1</td>\n",
       "      <td>True</td>\n",
       "      <td>False</td>\n",
       "      <td>40.000000</td>\n",
       "      <td>120</td>\n",
       "      <td>80.000000</td>\n",
       "      <td>True</td>\n",
       "      <td>False</td>\n",
       "    </tr>\n",
       "    <tr>\n",
       "      <th>2</th>\n",
       "      <td>148 leadenhall street</td>\n",
       "      <td>False</td>\n",
       "      <td>0</td>\n",
       "      <td>True</td>\n",
       "      <td>False</td>\n",
       "      <td>35.045455</td>\n",
       "      <td>0</td>\n",
       "      <td>112.715867</td>\n",
       "      <td>False</td>\n",
       "      <td>False</td>\n",
       "    </tr>\n",
       "    <tr>\n",
       "      <th>3</th>\n",
       "      <td>conway hall</td>\n",
       "      <td>False</td>\n",
       "      <td>0</td>\n",
       "      <td>True</td>\n",
       "      <td>False</td>\n",
       "      <td>35.045455</td>\n",
       "      <td>60</td>\n",
       "      <td>60.000000</td>\n",
       "      <td>False</td>\n",
       "      <td>False</td>\n",
       "    </tr>\n",
       "    <tr>\n",
       "      <th>4</th>\n",
       "      <td>gridiron building</td>\n",
       "      <td>False</td>\n",
       "      <td>0</td>\n",
       "      <td>True</td>\n",
       "      <td>False</td>\n",
       "      <td>35.045455</td>\n",
       "      <td>0</td>\n",
       "      <td>112.715867</td>\n",
       "      <td>False</td>\n",
       "      <td>False</td>\n",
       "    </tr>\n",
       "  </tbody>\n",
       "</table>\n",
       "</div>"
      ],
      "text/plain": [
       "               venue_name  Loud music / events  Venue provides alcohol  Wi-Fi  \\\n",
       "0  techspace aldgate east                False                       0   True   \n",
       "1       green rooms hotel                 True                       1   True   \n",
       "2   148 leadenhall street                False                       0   True   \n",
       "3             conway hall                False                       0   True   \n",
       "4       gridiron building                False                       0   True   \n",
       "\n",
       "   supervenue  U-Shaped_max  max_standing  Theatre_max  \\\n",
       "0       False     35.045455             0   112.715867   \n",
       "1       False     40.000000           120    80.000000   \n",
       "2       False     35.045455             0   112.715867   \n",
       "3       False     35.045455            60    60.000000   \n",
       "4       False     35.045455             0   112.715867   \n",
       "\n",
       "   Promoted / ticketed events  Wheelchair accessible  \n",
       "0                       False                  False  \n",
       "1                        True                  False  \n",
       "2                       False                  False  \n",
       "3                       False                  False  \n",
       "4                       False                  False  "
      ]
     },
     "execution_count": 4,
     "metadata": {},
     "output_type": "execute_result"
    }
   ],
   "source": [
    "dataset.head()"
   ]
  },
  {
   "cell_type": "code",
   "execution_count": 5,
   "id": "f763f61a-ad22-4926-a3b0-94ccb07443ff",
   "metadata": {},
   "outputs": [
    {
     "name": "stdout",
     "output_type": "stream",
     "text": [
      "<class 'pandas.core.frame.DataFrame'>\n",
      "RangeIndex: 3910 entries, 0 to 3909\n",
      "Data columns (total 10 columns):\n",
      " #   Column                      Non-Null Count  Dtype  \n",
      "---  ------                      --------------  -----  \n",
      " 0   venue_name                  3910 non-null   object \n",
      " 1   Loud music / events         3910 non-null   bool   \n",
      " 2   Venue provides alcohol      3910 non-null   int64  \n",
      " 3   Wi-Fi                       3910 non-null   bool   \n",
      " 4   supervenue                  3910 non-null   bool   \n",
      " 5   U-Shaped_max                3910 non-null   float64\n",
      " 6   max_standing                3910 non-null   int64  \n",
      " 7   Theatre_max                 3910 non-null   float64\n",
      " 8   Promoted / ticketed events  3910 non-null   bool   \n",
      " 9   Wheelchair accessible       3910 non-null   bool   \n",
      "dtypes: bool(5), float64(2), int64(2), object(1)\n",
      "memory usage: 172.0+ KB\n"
     ]
    }
   ],
   "source": [
    "dataset.info()"
   ]
  },
  {
   "cell_type": "code",
   "execution_count": 6,
   "id": "73a9ce4b-779c-493d-8349-e56dc480f317",
   "metadata": {},
   "outputs": [],
   "source": [
    "# See if there are any missing values.\n",
    "features_with_na=[features for features in dataset.columns if dataset[features].isnull().sum()>1]\n",
    "\n",
    "for feature in features_with_na:\n",
    "    print(feature, np.round(dataset[feature].isnull().mean(), 4),  ' % missing values')"
   ]
  },
  {
   "cell_type": "markdown",
   "id": "def1c515-6e35-4122-ad29-924f71dc5552",
   "metadata": {},
   "source": [
    "It appears that we don't have any missing values, but we will need to do more exploration to confirm."
   ]
  },
  {
   "cell_type": "markdown",
   "id": "36360c5a-66c1-4612-9c81-aa8528ff5d8f",
   "metadata": {},
   "source": [
    "## Venue Name\n"
   ]
  },
  {
   "cell_type": "code",
   "execution_count": 7,
   "id": "c969e80f-3442-4282-8724-4b7512864f52",
   "metadata": {},
   "outputs": [
    {
     "name": "stdout",
     "output_type": "stream",
     "text": [
      "There are 1444 unique venues out of 3910 total venues.\n"
     ]
    }
   ],
   "source": [
    "# Lets check if there are any venues that are double counted (via name)\n",
    "\n",
    "n_unique_names = dataset['venue_name'].nunique()\n",
    "total_venues = len(np.array(dataset['venue_name']))\n",
    "print('There are', n_unique_names, 'unique venues out of', total_venues, 'total venues.')"
   ]
  },
  {
   "cell_type": "markdown",
   "id": "c1241c0f-92bb-46f1-a629-e4a51c468e83",
   "metadata": {},
   "source": [
    "This could be an issue. We might have duplicate rows, but we could also have different rooms/venues at the same address. More exploration is needed."
   ]
  },
  {
   "cell_type": "code",
   "execution_count": 8,
   "id": "8b30ce6f-ff86-4911-866e-2c4a6693601c",
   "metadata": {},
   "outputs": [
    {
     "name": "stdout",
     "output_type": "stream",
     "text": [
      "There are 450 duplicate rows.\n"
     ]
    }
   ],
   "source": [
    "# Checking for fully duplicated rows\n",
    "\n",
    "duplicate = dataset.duplicated()\n",
    "print('There are', duplicate.sum(), 'duplicate rows.')"
   ]
  },
  {
   "cell_type": "markdown",
   "id": "207c3366-40b9-41af-bb55-d9d5447151fc",
   "metadata": {},
   "source": [
    "Even though there appears to be 450 duplicate rows, it it possible that the number of duplicates is actually smaller. It is possible that we have more than one duplicate per row. This is would be the best case scenario."
   ]
  },
  {
   "cell_type": "code",
   "execution_count": 9,
   "id": "44572382-f5a3-41c8-bc33-e6983e4c84bd",
   "metadata": {},
   "outputs": [
    {
     "name": "stdout",
     "output_type": "stream",
     "text": [
      "There are 227 unique venues out of 450 total duplicate venues.\n"
     ]
    }
   ],
   "source": [
    "duplicated_df = dataset[duplicate]\n",
    "n_unique_names = duplicated_df['venue_name'].nunique()\n",
    "total_venues = len(np.array(duplicated_df['venue_name']))\n",
    "print('There are', n_unique_names, 'unique venues out of', total_venues, 'total duplicate venues.')"
   ]
  },
  {
   "cell_type": "markdown",
   "id": "a4e0c1ab-33b8-43be-8a1c-4fd21cffb810",
   "metadata": {},
   "source": [
    "We have found that there are actually only 227 rows that had duplicates, so even though we will most likely delete 450 rows, we are not losing 450 data points, but rather just 227. Note, that these duplicates are not accounting for venues with the same name, but different feature values."
   ]
  },
  {
   "cell_type": "code",
   "execution_count": 10,
   "id": "a73c065e-205f-4823-8c48-415405638e4b",
   "metadata": {},
   "outputs": [
    {
     "data": {
      "text/html": [
       "<div>\n",
       "<style scoped>\n",
       "    .dataframe tbody tr th:only-of-type {\n",
       "        vertical-align: middle;\n",
       "    }\n",
       "\n",
       "    .dataframe tbody tr th {\n",
       "        vertical-align: top;\n",
       "    }\n",
       "\n",
       "    .dataframe thead th {\n",
       "        text-align: right;\n",
       "    }\n",
       "</style>\n",
       "<table border=\"1\" class=\"dataframe\">\n",
       "  <thead>\n",
       "    <tr style=\"text-align: right;\">\n",
       "      <th></th>\n",
       "      <th>venue_name</th>\n",
       "      <th>Loud music / events</th>\n",
       "      <th>Venue provides alcohol</th>\n",
       "      <th>Wi-Fi</th>\n",
       "      <th>supervenue</th>\n",
       "      <th>U-Shaped_max</th>\n",
       "      <th>max_standing</th>\n",
       "      <th>Theatre_max</th>\n",
       "      <th>Promoted / ticketed events</th>\n",
       "      <th>Wheelchair accessible</th>\n",
       "    </tr>\n",
       "  </thead>\n",
       "  <tbody>\n",
       "    <tr>\n",
       "      <th>6</th>\n",
       "      <td>lloyds avenue</td>\n",
       "      <td>False</td>\n",
       "      <td>0</td>\n",
       "      <td>True</td>\n",
       "      <td>False</td>\n",
       "      <td>35.045455</td>\n",
       "      <td>0</td>\n",
       "      <td>112.715867</td>\n",
       "      <td>False</td>\n",
       "      <td>False</td>\n",
       "    </tr>\n",
       "    <tr>\n",
       "      <th>65</th>\n",
       "      <td>lloyds avenue</td>\n",
       "      <td>False</td>\n",
       "      <td>0</td>\n",
       "      <td>True</td>\n",
       "      <td>False</td>\n",
       "      <td>35.045455</td>\n",
       "      <td>0</td>\n",
       "      <td>112.715867</td>\n",
       "      <td>False</td>\n",
       "      <td>False</td>\n",
       "    </tr>\n",
       "    <tr>\n",
       "      <th>85</th>\n",
       "      <td>lloyds avenue</td>\n",
       "      <td>False</td>\n",
       "      <td>0</td>\n",
       "      <td>True</td>\n",
       "      <td>False</td>\n",
       "      <td>35.045455</td>\n",
       "      <td>0</td>\n",
       "      <td>112.715867</td>\n",
       "      <td>False</td>\n",
       "      <td>False</td>\n",
       "    </tr>\n",
       "    <tr>\n",
       "      <th>225</th>\n",
       "      <td>lloyds avenue</td>\n",
       "      <td>False</td>\n",
       "      <td>0</td>\n",
       "      <td>True</td>\n",
       "      <td>False</td>\n",
       "      <td>35.045455</td>\n",
       "      <td>0</td>\n",
       "      <td>112.715867</td>\n",
       "      <td>False</td>\n",
       "      <td>False</td>\n",
       "    </tr>\n",
       "    <tr>\n",
       "      <th>1405</th>\n",
       "      <td>lloyds avenue</td>\n",
       "      <td>False</td>\n",
       "      <td>0</td>\n",
       "      <td>True</td>\n",
       "      <td>False</td>\n",
       "      <td>14.000000</td>\n",
       "      <td>0</td>\n",
       "      <td>30.000000</td>\n",
       "      <td>False</td>\n",
       "      <td>False</td>\n",
       "    </tr>\n",
       "    <tr>\n",
       "      <th>1569</th>\n",
       "      <td>lloyds avenue</td>\n",
       "      <td>False</td>\n",
       "      <td>0</td>\n",
       "      <td>True</td>\n",
       "      <td>False</td>\n",
       "      <td>35.045455</td>\n",
       "      <td>0</td>\n",
       "      <td>112.715867</td>\n",
       "      <td>False</td>\n",
       "      <td>False</td>\n",
       "    </tr>\n",
       "  </tbody>\n",
       "</table>\n",
       "</div>"
      ],
      "text/plain": [
       "         venue_name  Loud music / events  Venue provides alcohol  Wi-Fi  \\\n",
       "6     lloyds avenue                False                       0   True   \n",
       "65    lloyds avenue                False                       0   True   \n",
       "85    lloyds avenue                False                       0   True   \n",
       "225   lloyds avenue                False                       0   True   \n",
       "1405  lloyds avenue                False                       0   True   \n",
       "1569  lloyds avenue                False                       0   True   \n",
       "\n",
       "      supervenue  U-Shaped_max  max_standing  Theatre_max  \\\n",
       "6          False     35.045455             0   112.715867   \n",
       "65         False     35.045455             0   112.715867   \n",
       "85         False     35.045455             0   112.715867   \n",
       "225        False     35.045455             0   112.715867   \n",
       "1405       False     14.000000             0    30.000000   \n",
       "1569       False     35.045455             0   112.715867   \n",
       "\n",
       "      Promoted / ticketed events  Wheelchair accessible  \n",
       "6                          False                  False  \n",
       "65                         False                  False  \n",
       "85                         False                  False  \n",
       "225                        False                  False  \n",
       "1405                       False                  False  \n",
       "1569                       False                  False  "
      ]
     },
     "execution_count": 10,
     "metadata": {},
     "output_type": "execute_result"
    }
   ],
   "source": [
    "dataset.loc[dataset['venue_name'] == 'lloyds avenue']"
   ]
  },
  {
   "cell_type": "markdown",
   "id": "a099771e-74b0-4b35-b01b-b77746bbef29",
   "metadata": {},
   "source": [
    "As an example, lets look at the venue \"Lloyds Avenue\". We can see that rows 6, 65, 85, 225, and 1569 all have the same values, so for all intents and purposes, we can treat them as the same venue and keep only one of the rows. However, row 1405 has different occupancy numbers for the features \"U-Shaped max\" and \"Theatre_max\", so we will treat it as a seperate venue and keep it. As a result, we will only be keeping rows 6 and 1405"
   ]
  },
  {
   "cell_type": "code",
   "execution_count": 11,
   "id": "8d1c6520-d80f-48fb-bf85-c47893905ed7",
   "metadata": {},
   "outputs": [
    {
     "data": {
      "text/html": [
       "<div>\n",
       "<style scoped>\n",
       "    .dataframe tbody tr th:only-of-type {\n",
       "        vertical-align: middle;\n",
       "    }\n",
       "\n",
       "    .dataframe tbody tr th {\n",
       "        vertical-align: top;\n",
       "    }\n",
       "\n",
       "    .dataframe thead th {\n",
       "        text-align: right;\n",
       "    }\n",
       "</style>\n",
       "<table border=\"1\" class=\"dataframe\">\n",
       "  <thead>\n",
       "    <tr style=\"text-align: right;\">\n",
       "      <th></th>\n",
       "      <th>venue_name</th>\n",
       "      <th>Loud music / events</th>\n",
       "      <th>Venue provides alcohol</th>\n",
       "      <th>Wi-Fi</th>\n",
       "      <th>supervenue</th>\n",
       "      <th>U-Shaped_max</th>\n",
       "      <th>max_standing</th>\n",
       "      <th>Theatre_max</th>\n",
       "      <th>Promoted / ticketed events</th>\n",
       "      <th>Wheelchair accessible</th>\n",
       "    </tr>\n",
       "  </thead>\n",
       "  <tbody>\n",
       "    <tr>\n",
       "      <th>6</th>\n",
       "      <td>lloyds avenue</td>\n",
       "      <td>False</td>\n",
       "      <td>0</td>\n",
       "      <td>True</td>\n",
       "      <td>False</td>\n",
       "      <td>35.045455</td>\n",
       "      <td>0</td>\n",
       "      <td>112.715867</td>\n",
       "      <td>False</td>\n",
       "      <td>False</td>\n",
       "    </tr>\n",
       "    <tr>\n",
       "      <th>1405</th>\n",
       "      <td>lloyds avenue</td>\n",
       "      <td>False</td>\n",
       "      <td>0</td>\n",
       "      <td>True</td>\n",
       "      <td>False</td>\n",
       "      <td>14.000000</td>\n",
       "      <td>0</td>\n",
       "      <td>30.000000</td>\n",
       "      <td>False</td>\n",
       "      <td>False</td>\n",
       "    </tr>\n",
       "  </tbody>\n",
       "</table>\n",
       "</div>"
      ],
      "text/plain": [
       "         venue_name  Loud music / events  Venue provides alcohol  Wi-Fi  \\\n",
       "6     lloyds avenue                False                       0   True   \n",
       "1405  lloyds avenue                False                       0   True   \n",
       "\n",
       "      supervenue  U-Shaped_max  max_standing  Theatre_max  \\\n",
       "6          False     35.045455             0   112.715867   \n",
       "1405       False     14.000000             0    30.000000   \n",
       "\n",
       "      Promoted / ticketed events  Wheelchair accessible  \n",
       "6                          False                  False  \n",
       "1405                       False                  False  "
      ]
     },
     "execution_count": 11,
     "metadata": {},
     "output_type": "execute_result"
    }
   ],
   "source": [
    "# Here we drop all of the duplicate rows.\n",
    "dataset = dataset.drop_duplicates()\n",
    "dataset.loc[dataset['venue_name'] == 'lloyds avenue']"
   ]
  },
  {
   "cell_type": "markdown",
   "id": "4fb183ff-6bb3-47dc-89ad-03e318eacde9",
   "metadata": {},
   "source": [
    "As we can see, after we drop the duplicates we have only rows 6 and 1405 left. "
   ]
  },
  {
   "cell_type": "markdown",
   "id": "10b69042-1d48-4f95-b0bf-dfd90ac62b00",
   "metadata": {},
   "source": [
    "## Continuous Features"
   ]
  },
  {
   "cell_type": "code",
   "execution_count": 12,
   "id": "122f29e7-8d4a-4df8-9e50-ac84413b4237",
   "metadata": {},
   "outputs": [
    {
     "data": {
      "text/html": [
       "<div>\n",
       "<style scoped>\n",
       "    .dataframe tbody tr th:only-of-type {\n",
       "        vertical-align: middle;\n",
       "    }\n",
       "\n",
       "    .dataframe tbody tr th {\n",
       "        vertical-align: top;\n",
       "    }\n",
       "\n",
       "    .dataframe thead th {\n",
       "        text-align: right;\n",
       "    }\n",
       "</style>\n",
       "<table border=\"1\" class=\"dataframe\">\n",
       "  <thead>\n",
       "    <tr style=\"text-align: right;\">\n",
       "      <th></th>\n",
       "      <th>Venue provides alcohol</th>\n",
       "      <th>U-Shaped_max</th>\n",
       "      <th>max_standing</th>\n",
       "      <th>Theatre_max</th>\n",
       "    </tr>\n",
       "  </thead>\n",
       "  <tbody>\n",
       "    <tr>\n",
       "      <th>count</th>\n",
       "      <td>3460.000000</td>\n",
       "      <td>3460.000000</td>\n",
       "      <td>3460.000000</td>\n",
       "      <td>3460.000000</td>\n",
       "    </tr>\n",
       "    <tr>\n",
       "      <th>mean</th>\n",
       "      <td>0.743353</td>\n",
       "      <td>35.093431</td>\n",
       "      <td>126.390462</td>\n",
       "      <td>113.287819</td>\n",
       "    </tr>\n",
       "    <tr>\n",
       "      <th>std</th>\n",
       "      <td>0.436846</td>\n",
       "      <td>46.643692</td>\n",
       "      <td>285.898114</td>\n",
       "      <td>138.630541</td>\n",
       "    </tr>\n",
       "    <tr>\n",
       "      <th>min</th>\n",
       "      <td>0.000000</td>\n",
       "      <td>1.000000</td>\n",
       "      <td>0.000000</td>\n",
       "      <td>1.000000</td>\n",
       "    </tr>\n",
       "    <tr>\n",
       "      <th>25%</th>\n",
       "      <td>0.000000</td>\n",
       "      <td>35.045455</td>\n",
       "      <td>20.000000</td>\n",
       "      <td>70.000000</td>\n",
       "    </tr>\n",
       "    <tr>\n",
       "      <th>50%</th>\n",
       "      <td>1.000000</td>\n",
       "      <td>35.045455</td>\n",
       "      <td>60.000000</td>\n",
       "      <td>112.715867</td>\n",
       "    </tr>\n",
       "    <tr>\n",
       "      <th>75%</th>\n",
       "      <td>1.000000</td>\n",
       "      <td>35.045455</td>\n",
       "      <td>150.000000</td>\n",
       "      <td>112.715867</td>\n",
       "    </tr>\n",
       "    <tr>\n",
       "      <th>max</th>\n",
       "      <td>1.000000</td>\n",
       "      <td>2520.000000</td>\n",
       "      <td>7500.000000</td>\n",
       "      <td>4000.000000</td>\n",
       "    </tr>\n",
       "  </tbody>\n",
       "</table>\n",
       "</div>"
      ],
      "text/plain": [
       "       Venue provides alcohol  U-Shaped_max  max_standing  Theatre_max\n",
       "count             3460.000000   3460.000000   3460.000000  3460.000000\n",
       "mean                 0.743353     35.093431    126.390462   113.287819\n",
       "std                  0.436846     46.643692    285.898114   138.630541\n",
       "min                  0.000000      1.000000      0.000000     1.000000\n",
       "25%                  0.000000     35.045455     20.000000    70.000000\n",
       "50%                  1.000000     35.045455     60.000000   112.715867\n",
       "75%                  1.000000     35.045455    150.000000   112.715867\n",
       "max                  1.000000   2520.000000   7500.000000  4000.000000"
      ]
     },
     "execution_count": 12,
     "metadata": {},
     "output_type": "execute_result"
    }
   ],
   "source": [
    "dataset.describe()"
   ]
  },
  {
   "cell_type": "markdown",
   "id": "716654d5-d82b-43ea-9491-3597071ad962",
   "metadata": {},
   "source": [
    "From the description of the features provided in the case study description, it sounds like U-Shaped_max + max_standing = Theatre_max. However, max_standing has a higher mean than Theatre_max. Lets takea look"
   ]
  },
  {
   "cell_type": "code",
   "execution_count": 13,
   "id": "c8d02f2c-60b8-41b1-b381-5c9d994f3497",
   "metadata": {},
   "outputs": [
    {
     "data": {
      "text/html": [
       "<div>\n",
       "<style scoped>\n",
       "    .dataframe tbody tr th:only-of-type {\n",
       "        vertical-align: middle;\n",
       "    }\n",
       "\n",
       "    .dataframe tbody tr th {\n",
       "        vertical-align: top;\n",
       "    }\n",
       "\n",
       "    .dataframe thead th {\n",
       "        text-align: right;\n",
       "    }\n",
       "</style>\n",
       "<table border=\"1\" class=\"dataframe\">\n",
       "  <thead>\n",
       "    <tr style=\"text-align: right;\">\n",
       "      <th></th>\n",
       "      <th>venue_name</th>\n",
       "      <th>Loud music / events</th>\n",
       "      <th>Venue provides alcohol</th>\n",
       "      <th>Wi-Fi</th>\n",
       "      <th>supervenue</th>\n",
       "      <th>U-Shaped_max</th>\n",
       "      <th>max_standing</th>\n",
       "      <th>Theatre_max</th>\n",
       "      <th>Promoted / ticketed events</th>\n",
       "      <th>Wheelchair accessible</th>\n",
       "    </tr>\n",
       "  </thead>\n",
       "  <tbody>\n",
       "    <tr>\n",
       "      <th>186</th>\n",
       "      <td>doubletree by hilton hotel, ealing</td>\n",
       "      <td>False</td>\n",
       "      <td>1</td>\n",
       "      <td>True</td>\n",
       "      <td>False</td>\n",
       "      <td>30.0</td>\n",
       "      <td>50</td>\n",
       "      <td>80.0</td>\n",
       "      <td>False</td>\n",
       "      <td>False</td>\n",
       "    </tr>\n",
       "    <tr>\n",
       "      <th>306</th>\n",
       "      <td>landmark – euston, london</td>\n",
       "      <td>False</td>\n",
       "      <td>0</td>\n",
       "      <td>False</td>\n",
       "      <td>False</td>\n",
       "      <td>20.0</td>\n",
       "      <td>0</td>\n",
       "      <td>20.0</td>\n",
       "      <td>False</td>\n",
       "      <td>False</td>\n",
       "    </tr>\n",
       "    <tr>\n",
       "      <th>1154</th>\n",
       "      <td>gridiron building</td>\n",
       "      <td>False</td>\n",
       "      <td>0</td>\n",
       "      <td>True</td>\n",
       "      <td>False</td>\n",
       "      <td>20.0</td>\n",
       "      <td>0</td>\n",
       "      <td>20.0</td>\n",
       "      <td>False</td>\n",
       "      <td>False</td>\n",
       "    </tr>\n",
       "    <tr>\n",
       "      <th>3500</th>\n",
       "      <td>radisson blu edwardian npw</td>\n",
       "      <td>True</td>\n",
       "      <td>1</td>\n",
       "      <td>True</td>\n",
       "      <td>False</td>\n",
       "      <td>50.0</td>\n",
       "      <td>200</td>\n",
       "      <td>250.0</td>\n",
       "      <td>False</td>\n",
       "      <td>True</td>\n",
       "    </tr>\n",
       "    <tr>\n",
       "      <th>3906</th>\n",
       "      <td>landmark - aldgate, london</td>\n",
       "      <td>False</td>\n",
       "      <td>0</td>\n",
       "      <td>True</td>\n",
       "      <td>False</td>\n",
       "      <td>28.0</td>\n",
       "      <td>0</td>\n",
       "      <td>28.0</td>\n",
       "      <td>False</td>\n",
       "      <td>True</td>\n",
       "    </tr>\n",
       "  </tbody>\n",
       "</table>\n",
       "</div>"
      ],
      "text/plain": [
       "                              venue_name  Loud music / events  \\\n",
       "186   doubletree by hilton hotel, ealing                False   \n",
       "306            landmark – euston, london                False   \n",
       "1154                   gridiron building                False   \n",
       "3500          radisson blu edwardian npw                 True   \n",
       "3906          landmark - aldgate, london                False   \n",
       "\n",
       "      Venue provides alcohol  Wi-Fi  supervenue  U-Shaped_max  max_standing  \\\n",
       "186                        1   True       False          30.0            50   \n",
       "306                        0  False       False          20.0             0   \n",
       "1154                       0   True       False          20.0             0   \n",
       "3500                       1   True       False          50.0           200   \n",
       "3906                       0   True       False          28.0             0   \n",
       "\n",
       "      Theatre_max  Promoted / ticketed events  Wheelchair accessible  \n",
       "186          80.0                       False                  False  \n",
       "306          20.0                       False                  False  \n",
       "1154         20.0                       False                  False  \n",
       "3500        250.0                       False                   True  \n",
       "3906         28.0                       False                   True  "
      ]
     },
     "execution_count": 13,
     "metadata": {},
     "output_type": "execute_result"
    }
   ],
   "source": [
    "dataset.loc[dataset['U-Shaped_max'] + dataset['max_standing'] == dataset['Theatre_max']]"
   ]
  },
  {
   "cell_type": "markdown",
   "id": "521f7c6a-1379-420c-adba-b6caad624761",
   "metadata": {},
   "source": [
    "It appears that there are only 5 rows where this assumption holds true. Therefore, we cannot treat Theatre_max as the sum of the other two numerical features."
   ]
  },
  {
   "cell_type": "code",
   "execution_count": 14,
   "id": "3a64f2c0-eb6f-4c87-b3fb-047833978847",
   "metadata": {},
   "outputs": [
    {
     "name": "stdout",
     "output_type": "stream",
     "text": [
      "Average difference: 97.01\n"
     ]
    }
   ],
   "source": [
    "data = dataset.copy()\n",
    "data['diff_occupancy'] = np.abs(data['U-Shaped_max'] + data['max_standing'] - data['Theatre_max'])\n",
    "print('Average difference: {}'.format(np.round(data['diff_occupancy'].mean(), 2)))"
   ]
  },
  {
   "cell_type": "markdown",
   "id": "2c2109fd-35b2-433f-a142-64d6879ca2d1",
   "metadata": {},
   "source": [
    "Looking even further, Theatre_max and the sum of U-Shaped_max and max_standing are, on average, off by almost 100 people."
   ]
  },
  {
   "cell_type": "code",
   "execution_count": null,
   "id": "9200eea7-80c2-4f11-aecb-7d30093ac341",
   "metadata": {},
   "outputs": [
    {
     "data": {
      "image/png": "[encoded data removed]",
      "text/plain": [
       "<Figure size 432x288 with 1 Axes>"
      ]
     },
     "metadata": {
      "needs_background": "light"
     },
     "output_type": "display_data"
    }
   ],
   "source": [
    "# Visuallize the distributions of the continous variables\n",
    "continuous_features = ['U-Shaped_max', 'max_standing', 'Theatre_max']\n",
    "\n",
    "for feature in continuous_features:\n",
    "    data=dataset.copy()\n",
    "    data[feature].hist(bins=50)\n",
    "    plt.xlabel(feature)\n",
    "    plt.ylabel(\"Count\")\n",
    "    plt.title(feature)\n",
    "    plt.show()"
   ]
  },
  {
   "cell_type": "markdown",
   "id": "1f6d6852-2444-4cd7-802e-169d5774aadd",
   "metadata": {},
   "source": [
    "It appears that most of our venues have zero (or very low) max occupancy."
   ]
  },
  {
   "cell_type": "code",
   "execution_count": null,
   "id": "d9d8720d-9e1b-431e-91a0-55fc446ceafe",
   "metadata": {},
   "outputs": [],
   "source": [
    "# Lets look at the percentage of occupancy under 500 poeple\n",
    "\n",
    "for feature in continuous_features:\n",
    "    percent = (dataset[feature] <= 500).sum() / len(dataset[feature])\n",
    "    print(feature,':', np.round(percent, 4)*100,  ' % data points')"
   ]
  },
  {
   "cell_type": "markdown",
   "id": "d80ff96d-6312-4d68-b42d-dab1fce0c38f",
   "metadata": {},
   "source": [
    "As we can see, over 95% of all of our occupancy areas have a max occupany of under 500 people. Let's limit our histograms to get a better visualization."
   ]
  },
  {
   "cell_type": "code",
   "execution_count": 598,
   "id": "36b9e9f8-acf5-4c1d-a528-7978f279359a",
   "metadata": {},
   "outputs": [
    {
     "data": {
      "image/png": "[encoded data removed]",
      "text/plain": [
       "<Figure size 432x288 with 1 Axes>"
      ]
     },
     "metadata": {
      "needs_background": "light"
     },
     "output_type": "display_data"
    },
    {
     "data": {
      "image/png": "[encoded data removed]",
      "text/plain": [
       "<Figure size 432x288 with 1 Axes>"
      ]
     },
     "metadata": {
      "needs_background": "light"
     },
     "output_type": "display_data"
    },
    {
     "data": {
      "image/png": "[encoded data removed]",
      "text/plain": [
       "<Figure size 432x288 with 1 Axes>"
      ]
     },
     "metadata": {
      "needs_background": "light"
     },
     "output_type": "display_data"
    }
   ],
   "source": [
    "for feature in continuous_features:\n",
    "    data=dataset.copy()\n",
    "    data.loc[data[feature] <= 500][feature].hist(bins=10)\n",
    "    plt.xlabel(feature)\n",
    "    plt.ylabel(\"Count\")\n",
    "    plt.title(feature)\n",
    "    plt.show()"
   ]
  },
  {
   "cell_type": "markdown",
   "id": "260a2376-77b9-4728-b469-05bb624b47e0",
   "metadata": {},
   "source": [
    "The histogram confirms our assumption that over 95% of the venues will be low occupancy (500 or less). Furthermore, we can see that the majority of venues will have a max theares occupancy of under 300. Additionally, we can see that our features are not Guassian distributed and may have skew. We will need to address this in the feature engineering stage."
   ]
  },
  {
   "cell_type": "code",
   "execution_count": 599,
   "id": "0d6219de-a34a-4994-a491-1c38b3a03ace",
   "metadata": {},
   "outputs": [
    {
     "data": {
      "image/png": "[encoded data removed]",
      "text/plain": [
       "<Figure size 479.375x360 with 1 Axes>"
      ]
     },
     "metadata": {
      "needs_background": "light"
     },
     "output_type": "display_data"
    },
    {
     "data": {
      "image/png": "[encoded data removed]",
      "text/plain": [
       "<Figure size 479.375x360 with 1 Axes>"
      ]
     },
     "metadata": {
      "needs_background": "light"
     },
     "output_type": "display_data"
    },
    {
     "data": {
      "image/png": "[encoded data removed]",
      "text/plain": [
       "<Figure size 479.375x360 with 1 Axes>"
      ]
     },
     "metadata": {
      "needs_background": "light"
     },
     "output_type": "display_data"
    }
   ],
   "source": [
    "for feature in continuous_features:\n",
    "    data=dataset.copy()\n",
    "    sns.displot(data=data.loc[data[feature] <= 500], x=feature, hue=\"Wheelchair accessible\", multiple=\"stack\", kind='hist', bins=10, palette = 'husl')\n",
    "    plt.xlabel(feature)\n",
    "    plt.ylabel(\"Count\")\n",
    "    plt.title(feature)\n",
    "    plt.show()"
   ]
  },
  {
   "cell_type": "markdown",
   "id": "c2dc08fc-c3ef-49e8-a61b-442c58d60a81",
   "metadata": {},
   "source": [
    "Looking at these histograms, it appears that for all three of our numeric features, the likelyhood that a venue has wheelchair access increases with maximum occuapancy."
   ]
  },
  {
   "cell_type": "code",
   "execution_count": null,
   "id": "619fc991-97ea-400b-b996-5a4165e09053",
   "metadata": {},
   "outputs": [],
   "source": []
  },
  {
   "cell_type": "code",
   "execution_count": 600,
   "id": "d1da535e-f240-4bd5-a9e1-f5c7d48cb898",
   "metadata": {},
   "outputs": [
    {
     "data": {
      "image/png": "[encoded data removed]",
      "text/plain": [
       "<Figure size 360x360 with 1 Axes>"
      ]
     },
     "metadata": {
      "needs_background": "light"
     },
     "output_type": "display_data"
    },
    {
     "data": {
      "image/png": "[encoded data removed]",
      "text/plain": [
       "<Figure size 360x360 with 1 Axes>"
      ]
     },
     "metadata": {
      "needs_background": "light"
     },
     "output_type": "display_data"
    },
    {
     "data": {
      "image/png": "[encoded data removed]",
      "text/plain": [
       "<Figure size 360x360 with 1 Axes>"
      ]
     },
     "metadata": {
      "needs_background": "light"
     },
     "output_type": "display_data"
    }
   ],
   "source": [
    "# Let's plot the ECDF's to further look at our distrubutions of continious features, continuing with just looking at venues with under 500 poeple occupany in each area.\n",
    "for feature in continuous_features:\n",
    "    data=dataset.copy()\n",
    "    data = data.loc[data[feature] <= 500]\n",
    "    sns.displot(data, x=feature, kind=\"ecdf\")\n"
   ]
  },
  {
   "cell_type": "markdown",
   "id": "d97bae8d-f2b5-4268-aa94-2e4ac452bc57",
   "metadata": {},
   "source": [
    "As we can see, all of our continuous categories have majority small values. We know from the five-number summary, that only max_standing has zero values. This makes sense since some venues will not have standing areas. This also further proves our assumption that the majority of our venues have a max occupancy of under 200. From this graph, we further confirm our previous assertion that these features are not Guassian distributed."
   ]
  },
  {
   "cell_type": "code",
   "execution_count": 601,
   "id": "056f725b-1fa5-4409-afb2-92e134ba871e",
   "metadata": {},
   "outputs": [
    {
     "name": "stdout",
     "output_type": "stream",
     "text": [
      "U-Shaped_max : 0.0  % zero values\n",
      "max_standing : 0.1931  % zero values\n",
      "Theatre_max : 0.0  % zero values\n"
     ]
    }
   ],
   "source": [
    "# Look into the percentage of zero values\n",
    "for feature in continuous_features:\n",
    "    percent = (dataset[feature] == 0).sum() / len(dataset[feature])\n",
    "    print(feature,':', np.round(percent, 4),  ' % zero values')"
   ]
  },
  {
   "cell_type": "markdown",
   "id": "1115032e-df51-45a6-b88e-1729edcec45e",
   "metadata": {},
   "source": [
    "Almost 20% of the venues do not have a standing area, but all of the venues have a non-zero U-Shaped occupancy. This falls into line with our previous assumption that some venues will not have a standing area."
   ]
  },
  {
   "cell_type": "code",
   "execution_count": 602,
   "id": "229c23c8-3783-44c0-9d80-3826d3efb662",
   "metadata": {},
   "outputs": [
    {
     "data": {
      "text/plain": [
       "<seaborn.axisgrid.FacetGrid at 0x7fc77f63a790>"
      ]
     },
     "execution_count": 602,
     "metadata": {},
     "output_type": "execute_result"
    },
    {
     "data": {
      "image/png": "[encoded data removed]",
      "text/plain": [
       "<Figure size 479.375x360 with 1 Axes>"
      ]
     },
     "metadata": {
      "needs_background": "light"
     },
     "output_type": "display_data"
    }
   ],
   "source": [
    "# Let's look at the relationship between having a standing area and having a ramp.\n",
    "df = dataset.copy()\n",
    "df['has_standing'] = np.where(df['max_standing'] == 0, '0', '1')\n",
    "sns.displot(df, x=\"has_standing\", hue=\"Wheelchair accessible\", multiple=\"stack\", palette='husl')"
   ]
  },
  {
   "cell_type": "markdown",
   "id": "d00d3b71-3cf4-412e-af71-d78a1de02873",
   "metadata": {},
   "source": [
    "It does not appear that having a standing area has any impact on whether the venue has wheelchair access. It looks to be approximately a 50% split regardless if there is a standing area."
   ]
  },
  {
   "cell_type": "code",
   "execution_count": 603,
   "id": "a559f19e-e4c8-4686-8067-d92a7283a21d",
   "metadata": {},
   "outputs": [
    {
     "data": {
      "image/png": "[encoded data removed]",
      "text/plain": [
       "<Figure size 432x288 with 1 Axes>"
      ]
     },
     "metadata": {
      "needs_background": "light"
     },
     "output_type": "display_data"
    },
    {
     "data": {
      "image/png": "[encoded data removed]",
      "text/plain": [
       "<Figure size 432x288 with 1 Axes>"
      ]
     },
     "metadata": {
      "needs_background": "light"
     },
     "output_type": "display_data"
    },
    {
     "data": {
      "image/png": "[encoded data removed]",
      "text/plain": [
       "<Figure size 432x288 with 1 Axes>"
      ]
     },
     "metadata": {
      "needs_background": "light"
     },
     "output_type": "display_data"
    }
   ],
   "source": [
    "# Finally, lets look that the box plots to identify outliers.\n",
    "\n",
    "for feature in continuous_features:\n",
    "    data = dataset.copy()\n",
    "    ax = sns.boxenplot(x=feature, orient='h', data=data)\n",
    "    plt.xscale('log')\n",
    "    plt.title(feature + ' BoxenPlot')\n",
    "    plt.ylabel('Relative clustering of values')\n",
    "    plt.show()"
   ]
  },
  {
   "cell_type": "markdown",
   "id": "0d19aa08-9958-40f0-a638-46b5a1189c4d",
   "metadata": {},
   "source": [
    "From these plots, we see we have very few outliers. Let's look at the outliers and see if we can discern even more."
   ]
  },
  {
   "cell_type": "code",
   "execution_count": 604,
   "id": "9aa27244-56ac-4ee3-9b56-04d9ec6a99aa",
   "metadata": {},
   "outputs": [
    {
     "name": "stdout",
     "output_type": "stream",
     "text": [
      "100.0% of venues with U-Shaped_max over 500 have wheelchair accessibility with a total of 2 rows.\n",
      "83.19% of venues with max_standing over 500 have wheelchair accessibility with a total of 119 rows.\n",
      "97.3% of venues with Theatre_max over 500 have wheelchair accessibility with a total of 37 rows.\n",
      "Total number of outlier rows accounting for overlap in features: 133\n",
      "Percentage of dataset that are outliers: 3.84%\n"
     ]
    }
   ],
   "source": [
    "# Let's look at how many of the oulier values have wheelchair accessibility.\n",
    "for feature in continuous_features:\n",
    "    data=dataset.copy()\n",
    "    percent = np.round(data.loc[data[feature] > 500]['Wheelchair accessible'].sum() / len(data.loc[data[feature] > 500]['Wheelchair accessible']) * 100, 2)\n",
    "    total = len(data.loc[data[feature] > 500]['Wheelchair accessible'])\n",
    "    print('{}% of venues with {} over 500 have wheelchair accessibility with a total of {} rows.'.format(percent, feature, total))\n",
    "    \n",
    "total_num = dataset.loc[(data['U-Shaped_max'] > 500) | (data['max_standing'] > 500) | (data['Theatre_max'] > 500)]\n",
    "total_num_without_dups = total_num[~total_num.duplicated()]\n",
    "print('Total number of outlier rows accounting for overlap in features: {}'.format(total_num_without_dups.shape[0]))\n",
    "print('Percentage of dataset that are outliers: {}%'.format(np.round(total_num_without_dups.shape[0]/dataset.shape[0]*100, 2)))"
   ]
  },
  {
   "cell_type": "markdown",
   "id": "5138a222-95af-43d8-80d1-07871ff58d88",
   "metadata": {},
   "source": [
    "As we can see from the percentages above, most of the venues that have over 500 max occupancy in any of the three features have wheelchair accessibility. Since our measure of success is to predict when a venue does not have wheelchair accessibility AND these values are outliers to our dataset, we can drop these rows. Additionally, there are only 133 of these rows, which account for under 4% of our dataset."
   ]
  },
  {
   "cell_type": "markdown",
   "id": "b1f39da0-6bf1-486f-8e2e-f83b1950d8e2",
   "metadata": {},
   "source": [
    "## Categorical Variables"
   ]
  },
  {
   "cell_type": "code",
   "execution_count": 605,
   "id": "7880cd7b-2e98-4be2-a10d-6024c9fb4aa7",
   "metadata": {},
   "outputs": [],
   "source": [
    "categorical_features = ['Loud music / events', 'Venue provides alcohol', 'Wi-Fi', 'supervenue', 'Promoted / ticketed events']"
   ]
  },
  {
   "cell_type": "code",
   "execution_count": 606,
   "id": "7e71e3cf-6f9a-4876-9503-1def6a3e753f",
   "metadata": {},
   "outputs": [
    {
     "data": {
      "image/png": "[encoded data removed]",
      "text/plain": [
       "<Figure size 479.375x360 with 1 Axes>"
      ]
     },
     "metadata": {
      "needs_background": "light"
     },
     "output_type": "display_data"
    },
    {
     "data": {
      "image/png": "[encoded data removed]",
      "text/plain": [
       "<Figure size 479.375x360 with 1 Axes>"
      ]
     },
     "metadata": {
      "needs_background": "light"
     },
     "output_type": "display_data"
    },
    {
     "data": {
      "image/png": "[encoded data removed]",
      "text/plain": [
       "<Figure size 479.375x360 with 1 Axes>"
      ]
     },
     "metadata": {
      "needs_background": "light"
     },
     "output_type": "display_data"
    },
    {
     "data": {
      "image/png": "[encoded data removed]",
      "text/plain": [
       "<Figure size 479.375x360 with 1 Axes>"
      ]
     },
     "metadata": {
      "needs_background": "light"
     },
     "output_type": "display_data"
    },
    {
     "data": {
      "image/png": "[encoded data removed]",
      "text/plain": [
       "<Figure size 479.375x360 with 1 Axes>"
      ]
     },
     "metadata": {
      "needs_background": "light"
     },
     "output_type": "display_data"
    }
   ],
   "source": [
    "for feature in categorical_features:\n",
    "    data = dataset.copy()\n",
    "    data[feature] = np.where(data[feature] == 0, '0', '1')\n",
    "    sns.displot(data, x=feature, hue=\"Wheelchair accessible\", multiple=\"stack\", kind='hist', palette=\"husl\")"
   ]
  },
  {
   "cell_type": "markdown",
   "id": "7ebc2a4c-0787-4d01-954d-44181f7fc7de",
   "metadata": {},
   "source": [
    "There seems to be a pretty even split for every feature, but there are a few features that stand out:\n",
    "- Super Venues are much less likely to have wheelchair access.\n",
    "- Venues without wifi are less likely to have wheelchair access.\n",
    "- Venues that do not provide alchohol are less likely to have wheelchair access.\n",
    "- Whether venues that have ticketed events or have loud music events do not seem to have impact on wheelchair access. "
   ]
  },
  {
   "cell_type": "code",
   "execution_count": 607,
   "id": "9398d918-6f28-45c4-bb7f-a246c6bd7f0d",
   "metadata": {},
   "outputs": [
    {
     "data": {
      "text/html": [
       "<div>\n",
       "<style scoped>\n",
       "    .dataframe tbody tr th:only-of-type {\n",
       "        vertical-align: middle;\n",
       "    }\n",
       "\n",
       "    .dataframe tbody tr th {\n",
       "        vertical-align: top;\n",
       "    }\n",
       "\n",
       "    .dataframe thead th {\n",
       "        text-align: right;\n",
       "    }\n",
       "</style>\n",
       "<table border=\"1\" class=\"dataframe\">\n",
       "  <thead>\n",
       "    <tr style=\"text-align: right;\">\n",
       "      <th></th>\n",
       "      <th>Loud music / events</th>\n",
       "      <th>Venue provides alcohol</th>\n",
       "      <th>Wi-Fi</th>\n",
       "      <th>supervenue</th>\n",
       "      <th>U-Shaped_max</th>\n",
       "      <th>max_standing</th>\n",
       "      <th>Theatre_max</th>\n",
       "      <th>Promoted / ticketed events</th>\n",
       "    </tr>\n",
       "  </thead>\n",
       "  <tbody>\n",
       "    <tr>\n",
       "      <th>Loud music / events</th>\n",
       "      <td>1.000000</td>\n",
       "      <td>0.241746</td>\n",
       "      <td>0.011990</td>\n",
       "      <td>-0.008839</td>\n",
       "      <td>0.040048</td>\n",
       "      <td>0.130542</td>\n",
       "      <td>0.077631</td>\n",
       "      <td>0.333494</td>\n",
       "    </tr>\n",
       "    <tr>\n",
       "      <th>Venue provides alcohol</th>\n",
       "      <td>0.241746</td>\n",
       "      <td>1.000000</td>\n",
       "      <td>0.007924</td>\n",
       "      <td>-0.113068</td>\n",
       "      <td>-0.019552</td>\n",
       "      <td>0.130655</td>\n",
       "      <td>0.046074</td>\n",
       "      <td>0.043804</td>\n",
       "    </tr>\n",
       "    <tr>\n",
       "      <th>Wi-Fi</th>\n",
       "      <td>0.011990</td>\n",
       "      <td>0.007924</td>\n",
       "      <td>1.000000</td>\n",
       "      <td>0.032787</td>\n",
       "      <td>-0.002948</td>\n",
       "      <td>-0.083331</td>\n",
       "      <td>-0.062414</td>\n",
       "      <td>0.011644</td>\n",
       "    </tr>\n",
       "    <tr>\n",
       "      <th>supervenue</th>\n",
       "      <td>-0.008839</td>\n",
       "      <td>-0.113068</td>\n",
       "      <td>0.032787</td>\n",
       "      <td>1.000000</td>\n",
       "      <td>-0.014995</td>\n",
       "      <td>-0.071812</td>\n",
       "      <td>-0.036221</td>\n",
       "      <td>0.008001</td>\n",
       "    </tr>\n",
       "    <tr>\n",
       "      <th>U-Shaped_max</th>\n",
       "      <td>0.040048</td>\n",
       "      <td>-0.019552</td>\n",
       "      <td>-0.002948</td>\n",
       "      <td>-0.014995</td>\n",
       "      <td>1.000000</td>\n",
       "      <td>0.064794</td>\n",
       "      <td>0.092681</td>\n",
       "      <td>0.042827</td>\n",
       "    </tr>\n",
       "    <tr>\n",
       "      <th>max_standing</th>\n",
       "      <td>0.130542</td>\n",
       "      <td>0.130655</td>\n",
       "      <td>-0.083331</td>\n",
       "      <td>-0.071812</td>\n",
       "      <td>0.064794</td>\n",
       "      <td>1.000000</td>\n",
       "      <td>0.447548</td>\n",
       "      <td>0.115662</td>\n",
       "    </tr>\n",
       "    <tr>\n",
       "      <th>Theatre_max</th>\n",
       "      <td>0.077631</td>\n",
       "      <td>0.046074</td>\n",
       "      <td>-0.062414</td>\n",
       "      <td>-0.036221</td>\n",
       "      <td>0.092681</td>\n",
       "      <td>0.447548</td>\n",
       "      <td>1.000000</td>\n",
       "      <td>0.097219</td>\n",
       "    </tr>\n",
       "    <tr>\n",
       "      <th>Promoted / ticketed events</th>\n",
       "      <td>0.333494</td>\n",
       "      <td>0.043804</td>\n",
       "      <td>0.011644</td>\n",
       "      <td>0.008001</td>\n",
       "      <td>0.042827</td>\n",
       "      <td>0.115662</td>\n",
       "      <td>0.097219</td>\n",
       "      <td>1.000000</td>\n",
       "    </tr>\n",
       "  </tbody>\n",
       "</table>\n",
       "</div>"
      ],
      "text/plain": [
       "                            Loud music / events  Venue provides alcohol  \\\n",
       "Loud music / events                    1.000000                0.241746   \n",
       "Venue provides alcohol                 0.241746                1.000000   \n",
       "Wi-Fi                                  0.011990                0.007924   \n",
       "supervenue                            -0.008839               -0.113068   \n",
       "U-Shaped_max                           0.040048               -0.019552   \n",
       "max_standing                           0.130542                0.130655   \n",
       "Theatre_max                            0.077631                0.046074   \n",
       "Promoted / ticketed events             0.333494                0.043804   \n",
       "\n",
       "                               Wi-Fi  supervenue  U-Shaped_max  max_standing  \\\n",
       "Loud music / events         0.011990   -0.008839      0.040048      0.130542   \n",
       "Venue provides alcohol      0.007924   -0.113068     -0.019552      0.130655   \n",
       "Wi-Fi                       1.000000    0.032787     -0.002948     -0.083331   \n",
       "supervenue                  0.032787    1.000000     -0.014995     -0.071812   \n",
       "U-Shaped_max               -0.002948   -0.014995      1.000000      0.064794   \n",
       "max_standing               -0.083331   -0.071812      0.064794      1.000000   \n",
       "Theatre_max                -0.062414   -0.036221      0.092681      0.447548   \n",
       "Promoted / ticketed events  0.011644    0.008001      0.042827      0.115662   \n",
       "\n",
       "                            Theatre_max  Promoted / ticketed events  \n",
       "Loud music / events            0.077631                    0.333494  \n",
       "Venue provides alcohol         0.046074                    0.043804  \n",
       "Wi-Fi                         -0.062414                    0.011644  \n",
       "supervenue                    -0.036221                    0.008001  \n",
       "U-Shaped_max                   0.092681                    0.042827  \n",
       "max_standing                   0.447548                    0.115662  \n",
       "Theatre_max                    1.000000                    0.097219  \n",
       "Promoted / ticketed events     0.097219                    1.000000  "
      ]
     },
     "execution_count": 607,
     "metadata": {},
     "output_type": "execute_result"
    }
   ],
   "source": [
    "# Let's look at the correlation matrix for the categorical features\n",
    "\n",
    "all_features = [feature for feature in dataset.columns if feature not in ['venue_name', 'Wheelchair accessible']]\n",
    "\n",
    "\n",
    "dataset[all_features].corr()"
   ]
  },
  {
   "cell_type": "markdown",
   "id": "d79b91d3-8b05-4bbb-b883-ce2d41c03213",
   "metadata": {},
   "source": [
    "Examining the correlation matrix, there are no correlation values greater than 0.35 in magnitude. Therefore, none of the features heavily affect one another and can all be used together in a final model. To confirm this visually, let's plot."
   ]
  },
  {
   "cell_type": "code",
   "execution_count": 608,
   "id": "75c7570d-0935-4cf3-9f34-7c4ae54f8f65",
   "metadata": {},
   "outputs": [
    {
     "data": {
      "text/plain": [
       "<AxesSubplot:title={'center':'Heatmap of correlation matrix'}>"
      ]
     },
     "execution_count": 608,
     "metadata": {},
     "output_type": "execute_result"
    },
    {
     "data": {
      "image/png": "[encoded data removed]",
      "text/plain": [
       "<Figure size 792x648 with 2 Axes>"
      ]
     },
     "metadata": {
      "needs_background": "light"
     },
     "output_type": "display_data"
    }
   ],
   "source": [
    "# Compute the correlation matrix\n",
    "corr = dataset[all_features].corr()\n",
    "\n",
    "# Generate a mask for the upper triangle\n",
    "mask = np.triu(np.ones_like(corr, dtype=bool))\n",
    "\n",
    "# Set up the matplotlib figure\n",
    "f, ax = plt.subplots(figsize=(11, 9))\n",
    "plt.title('Heatmap of correlation matrix')\n",
    "\n",
    "# Generate a custom diverging colormap\n",
    "cmap = sns.diverging_palette(150, 20, as_cmap=True)\n",
    "\n",
    "# Draw the heatmap with the mask and correct aspect ratio\n",
    "sns.heatmap(corr, mask=mask, cmap=cmap, vmax=0.8, center=0,\n",
    "            square=True, linewidths=.5, cbar_kws={\"shrink\": .5})"
   ]
  },
  {
   "cell_type": "markdown",
   "id": "0f6932ce-2ddc-40ba-bf5d-80ff6f534ee5",
   "metadata": {},
   "source": [
    "As we can see, most of the values are very low, with our correlation_maxtrix having a maximum of under 0.35 correlation."
   ]
  },
  {
   "cell_type": "markdown",
   "id": "7ddc0f7b-fb48-4cd0-bdbb-a04816d183d3",
   "metadata": {},
   "source": [
    "# Feature Engineering"
   ]
  },
  {
   "cell_type": "markdown",
   "id": "ad448e8c-8567-44e1-a38d-f542ccae9f0c",
   "metadata": {},
   "source": [
    "### Dealing with name column"
   ]
  },
  {
   "cell_type": "code",
   "execution_count": 609,
   "id": "eb53e53a-d54b-4203-a15e-035f78985269",
   "metadata": {},
   "outputs": [],
   "source": [
    "# Venue name is not a helpful feature. It is simply an identifier, so we will drop it\n",
    "venue_name = dataset['venue_name']\n",
    "dataset = dataset.drop('venue_name', axis=1)"
   ]
  },
  {
   "cell_type": "markdown",
   "id": "ce048084-ea55-49d4-ae32-70f90841ddda",
   "metadata": {},
   "source": [
    "### Converting bool categories to one hot encodings"
   ]
  },
  {
   "cell_type": "code",
   "execution_count": 610,
   "id": "a2ed60b5-d278-41cc-b4fb-f717c4547355",
   "metadata": {},
   "outputs": [],
   "source": [
    "# Since all of our categorical features are booleans, we can do a simple binary one hot encoding instead of using pandas.get_dummies()\n",
    "\n",
    "#Note, wheelchair accessible is part of bool_categories since we need it to be binary for our model.\n",
    "bool_categories = ['Loud music / events', 'Wi-Fi', 'supervenue', 'Promoted / ticketed events', 'Wheelchair accessible']\n",
    "\n",
    "for feature in bool_categories:\n",
    "    dataset[feature] = np.where(df[feature] == True, 1, 0)"
   ]
  },
  {
   "cell_type": "code",
   "execution_count": 611,
   "id": "15a544b5-2136-4ffd-b354-287840218928",
   "metadata": {},
   "outputs": [
    {
     "data": {
      "text/html": [
       "<div>\n",
       "<style scoped>\n",
       "    .dataframe tbody tr th:only-of-type {\n",
       "        vertical-align: middle;\n",
       "    }\n",
       "\n",
       "    .dataframe tbody tr th {\n",
       "        vertical-align: top;\n",
       "    }\n",
       "\n",
       "    .dataframe thead th {\n",
       "        text-align: right;\n",
       "    }\n",
       "</style>\n",
       "<table border=\"1\" class=\"dataframe\">\n",
       "  <thead>\n",
       "    <tr style=\"text-align: right;\">\n",
       "      <th></th>\n",
       "      <th>Loud music / events</th>\n",
       "      <th>Venue provides alcohol</th>\n",
       "      <th>Wi-Fi</th>\n",
       "      <th>supervenue</th>\n",
       "      <th>U-Shaped_max</th>\n",
       "      <th>max_standing</th>\n",
       "      <th>Theatre_max</th>\n",
       "      <th>Promoted / ticketed events</th>\n",
       "      <th>Wheelchair accessible</th>\n",
       "    </tr>\n",
       "  </thead>\n",
       "  <tbody>\n",
       "    <tr>\n",
       "      <th>0</th>\n",
       "      <td>0</td>\n",
       "      <td>0</td>\n",
       "      <td>1</td>\n",
       "      <td>0</td>\n",
       "      <td>35.045455</td>\n",
       "      <td>0</td>\n",
       "      <td>112.715867</td>\n",
       "      <td>0</td>\n",
       "      <td>0</td>\n",
       "    </tr>\n",
       "    <tr>\n",
       "      <th>1</th>\n",
       "      <td>1</td>\n",
       "      <td>1</td>\n",
       "      <td>1</td>\n",
       "      <td>0</td>\n",
       "      <td>40.000000</td>\n",
       "      <td>120</td>\n",
       "      <td>80.000000</td>\n",
       "      <td>1</td>\n",
       "      <td>0</td>\n",
       "    </tr>\n",
       "    <tr>\n",
       "      <th>2</th>\n",
       "      <td>0</td>\n",
       "      <td>0</td>\n",
       "      <td>1</td>\n",
       "      <td>0</td>\n",
       "      <td>35.045455</td>\n",
       "      <td>0</td>\n",
       "      <td>112.715867</td>\n",
       "      <td>0</td>\n",
       "      <td>0</td>\n",
       "    </tr>\n",
       "    <tr>\n",
       "      <th>3</th>\n",
       "      <td>0</td>\n",
       "      <td>0</td>\n",
       "      <td>1</td>\n",
       "      <td>0</td>\n",
       "      <td>35.045455</td>\n",
       "      <td>60</td>\n",
       "      <td>60.000000</td>\n",
       "      <td>0</td>\n",
       "      <td>0</td>\n",
       "    </tr>\n",
       "    <tr>\n",
       "      <th>4</th>\n",
       "      <td>0</td>\n",
       "      <td>0</td>\n",
       "      <td>1</td>\n",
       "      <td>0</td>\n",
       "      <td>35.045455</td>\n",
       "      <td>0</td>\n",
       "      <td>112.715867</td>\n",
       "      <td>0</td>\n",
       "      <td>0</td>\n",
       "    </tr>\n",
       "  </tbody>\n",
       "</table>\n",
       "</div>"
      ],
      "text/plain": [
       "   Loud music / events  Venue provides alcohol  Wi-Fi  supervenue  \\\n",
       "0                    0                       0      1           0   \n",
       "1                    1                       1      1           0   \n",
       "2                    0                       0      1           0   \n",
       "3                    0                       0      1           0   \n",
       "4                    0                       0      1           0   \n",
       "\n",
       "   U-Shaped_max  max_standing  Theatre_max  Promoted / ticketed events  \\\n",
       "0     35.045455             0   112.715867                           0   \n",
       "1     40.000000           120    80.000000                           1   \n",
       "2     35.045455             0   112.715867                           0   \n",
       "3     35.045455            60    60.000000                           0   \n",
       "4     35.045455             0   112.715867                           0   \n",
       "\n",
       "   Wheelchair accessible  \n",
       "0                      0  \n",
       "1                      0  \n",
       "2                      0  \n",
       "3                      0  \n",
       "4                      0  "
      ]
     },
     "execution_count": 611,
     "metadata": {},
     "output_type": "execute_result"
    }
   ],
   "source": [
    "dataset.head()"
   ]
  },
  {
   "cell_type": "markdown",
   "id": "b7f808ac-edc9-411f-8d1e-413d25c2d2a1",
   "metadata": {},
   "source": [
    "### Numeric Features"
   ]
  },
  {
   "cell_type": "code",
   "execution_count": 612,
   "id": "49e2b290-41c6-4ec4-9af5-7f57ce122f9f",
   "metadata": {},
   "outputs": [],
   "source": [
    "# Removing outliers\n",
    "ouliers = dataset.loc[(data['U-Shaped_max'] > 500) | (data['max_standing'] > 500) | (data['Theatre_max'] > 500)]\n",
    "outliers_without_dups = total_num.drop_duplicates()\n",
    "dataset = dataset.drop(outliers_without_dups.index)"
   ]
  },
  {
   "cell_type": "code",
   "execution_count": 613,
   "id": "b7654cd3-808a-4c72-bced-90a06e304584",
   "metadata": {},
   "outputs": [],
   "source": [
    "# Normalizing features that have only nonzero values\n",
    "for feature in continuous_features:\n",
    "    if 0 in data[feature].unique():\n",
    "        pass\n",
    "    else:\n",
    "        dataset[feature] = np.log(dataset[feature])"
   ]
  },
  {
   "cell_type": "markdown",
   "id": "3ece9453-018c-4c1d-a88e-5dfb794aedd7",
   "metadata": {},
   "source": [
    "We have successfully logararithmically normalized the \"U-Shaped_max\" and the \"Theatre_max\" column."
   ]
  },
  {
   "cell_type": "code",
   "execution_count": 614,
   "id": "a8a47943-aa45-4d99-b8d9-d3cdbae2ec89",
   "metadata": {},
   "outputs": [
    {
     "data": {
      "text/html": [
       "<div>\n",
       "<style scoped>\n",
       "    .dataframe tbody tr th:only-of-type {\n",
       "        vertical-align: middle;\n",
       "    }\n",
       "\n",
       "    .dataframe tbody tr th {\n",
       "        vertical-align: top;\n",
       "    }\n",
       "\n",
       "    .dataframe thead th {\n",
       "        text-align: right;\n",
       "    }\n",
       "</style>\n",
       "<table border=\"1\" class=\"dataframe\">\n",
       "  <thead>\n",
       "    <tr style=\"text-align: right;\">\n",
       "      <th></th>\n",
       "      <th>Loud music / events</th>\n",
       "      <th>Venue provides alcohol</th>\n",
       "      <th>Wi-Fi</th>\n",
       "      <th>supervenue</th>\n",
       "      <th>U-Shaped_max</th>\n",
       "      <th>max_standing</th>\n",
       "      <th>Theatre_max</th>\n",
       "      <th>Promoted / ticketed events</th>\n",
       "      <th>Wheelchair accessible</th>\n",
       "    </tr>\n",
       "  </thead>\n",
       "  <tbody>\n",
       "    <tr>\n",
       "      <th>0</th>\n",
       "      <td>0.0</td>\n",
       "      <td>0.0</td>\n",
       "      <td>1.0</td>\n",
       "      <td>0.0</td>\n",
       "      <td>0.671278</td>\n",
       "      <td>0.00</td>\n",
       "      <td>0.760284</td>\n",
       "      <td>0.0</td>\n",
       "      <td>0</td>\n",
       "    </tr>\n",
       "    <tr>\n",
       "      <th>1</th>\n",
       "      <td>1.0</td>\n",
       "      <td>1.0</td>\n",
       "      <td>1.0</td>\n",
       "      <td>0.0</td>\n",
       "      <td>0.696236</td>\n",
       "      <td>0.24</td>\n",
       "      <td>0.705117</td>\n",
       "      <td>1.0</td>\n",
       "      <td>0</td>\n",
       "    </tr>\n",
       "    <tr>\n",
       "      <th>2</th>\n",
       "      <td>0.0</td>\n",
       "      <td>0.0</td>\n",
       "      <td>1.0</td>\n",
       "      <td>0.0</td>\n",
       "      <td>0.671278</td>\n",
       "      <td>0.00</td>\n",
       "      <td>0.760284</td>\n",
       "      <td>0.0</td>\n",
       "      <td>0</td>\n",
       "    </tr>\n",
       "    <tr>\n",
       "      <th>3</th>\n",
       "      <td>0.0</td>\n",
       "      <td>0.0</td>\n",
       "      <td>1.0</td>\n",
       "      <td>0.0</td>\n",
       "      <td>0.671278</td>\n",
       "      <td>0.12</td>\n",
       "      <td>0.658826</td>\n",
       "      <td>0.0</td>\n",
       "      <td>0</td>\n",
       "    </tr>\n",
       "    <tr>\n",
       "      <th>4</th>\n",
       "      <td>0.0</td>\n",
       "      <td>0.0</td>\n",
       "      <td>1.0</td>\n",
       "      <td>0.0</td>\n",
       "      <td>0.671278</td>\n",
       "      <td>0.00</td>\n",
       "      <td>0.760284</td>\n",
       "      <td>0.0</td>\n",
       "      <td>0</td>\n",
       "    </tr>\n",
       "    <tr>\n",
       "      <th>5</th>\n",
       "      <td>1.0</td>\n",
       "      <td>1.0</td>\n",
       "      <td>1.0</td>\n",
       "      <td>0.0</td>\n",
       "      <td>0.338175</td>\n",
       "      <td>0.00</td>\n",
       "      <td>0.760284</td>\n",
       "      <td>1.0</td>\n",
       "      <td>0</td>\n",
       "    </tr>\n",
       "    <tr>\n",
       "      <th>6</th>\n",
       "      <td>0.0</td>\n",
       "      <td>0.0</td>\n",
       "      <td>1.0</td>\n",
       "      <td>0.0</td>\n",
       "      <td>0.671278</td>\n",
       "      <td>0.00</td>\n",
       "      <td>0.760284</td>\n",
       "      <td>0.0</td>\n",
       "      <td>0</td>\n",
       "    </tr>\n",
       "    <tr>\n",
       "      <th>7</th>\n",
       "      <td>1.0</td>\n",
       "      <td>1.0</td>\n",
       "      <td>1.0</td>\n",
       "      <td>0.0</td>\n",
       "      <td>0.671278</td>\n",
       "      <td>0.40</td>\n",
       "      <td>0.760284</td>\n",
       "      <td>0.0</td>\n",
       "      <td>0</td>\n",
       "    </tr>\n",
       "    <tr>\n",
       "      <th>8</th>\n",
       "      <td>0.0</td>\n",
       "      <td>0.0</td>\n",
       "      <td>1.0</td>\n",
       "      <td>0.0</td>\n",
       "      <td>0.671278</td>\n",
       "      <td>0.00</td>\n",
       "      <td>0.760284</td>\n",
       "      <td>0.0</td>\n",
       "      <td>0</td>\n",
       "    </tr>\n",
       "    <tr>\n",
       "      <th>9</th>\n",
       "      <td>1.0</td>\n",
       "      <td>1.0</td>\n",
       "      <td>1.0</td>\n",
       "      <td>0.0</td>\n",
       "      <td>0.671278</td>\n",
       "      <td>0.36</td>\n",
       "      <td>0.482047</td>\n",
       "      <td>1.0</td>\n",
       "      <td>0</td>\n",
       "    </tr>\n",
       "  </tbody>\n",
       "</table>\n",
       "</div>"
      ],
      "text/plain": [
       "   Loud music / events  Venue provides alcohol  Wi-Fi  supervenue  \\\n",
       "0                  0.0                     0.0    1.0         0.0   \n",
       "1                  1.0                     1.0    1.0         0.0   \n",
       "2                  0.0                     0.0    1.0         0.0   \n",
       "3                  0.0                     0.0    1.0         0.0   \n",
       "4                  0.0                     0.0    1.0         0.0   \n",
       "5                  1.0                     1.0    1.0         0.0   \n",
       "6                  0.0                     0.0    1.0         0.0   \n",
       "7                  1.0                     1.0    1.0         0.0   \n",
       "8                  0.0                     0.0    1.0         0.0   \n",
       "9                  1.0                     1.0    1.0         0.0   \n",
       "\n",
       "   U-Shaped_max  max_standing  Theatre_max  Promoted / ticketed events  \\\n",
       "0      0.671278          0.00     0.760284                         0.0   \n",
       "1      0.696236          0.24     0.705117                         1.0   \n",
       "2      0.671278          0.00     0.760284                         0.0   \n",
       "3      0.671278          0.12     0.658826                         0.0   \n",
       "4      0.671278          0.00     0.760284                         0.0   \n",
       "5      0.338175          0.00     0.760284                         1.0   \n",
       "6      0.671278          0.00     0.760284                         0.0   \n",
       "7      0.671278          0.40     0.760284                         0.0   \n",
       "8      0.671278          0.00     0.760284                         0.0   \n",
       "9      0.671278          0.36     0.482047                         1.0   \n",
       "\n",
       "   Wheelchair accessible  \n",
       "0                      0  \n",
       "1                      0  \n",
       "2                      0  \n",
       "3                      0  \n",
       "4                      0  \n",
       "5                      0  \n",
       "6                      0  \n",
       "7                      0  \n",
       "8                      0  \n",
       "9                      0  "
      ]
     },
     "execution_count": 614,
     "metadata": {},
     "output_type": "execute_result"
    }
   ],
   "source": [
    "# Make sure all columns are on the same scale\n",
    "feature_scale=[feature for feature in dataset.columns if feature not in ['Wheelchair accessible']]\n",
    "\n",
    "scaler=MinMaxScaler()\n",
    "\n",
    "data = pd.concat([pd.DataFrame(scaler.fit_transform(dataset[feature_scale]), columns=feature_scale),\n",
    "                 dataset[['Wheelchair accessible']].reset_index(drop=True)],\n",
    "                    axis=1)\n",
    "\n",
    "data.head(10)"
   ]
  },
  {
   "cell_type": "markdown",
   "id": "0753868e-fe2a-435b-a4ce-0b497d8ca6ac",
   "metadata": {},
   "source": [
    "# Modeling"
   ]
  },
  {
   "cell_type": "code",
   "execution_count": 615,
   "id": "dcd1e554-5a37-4916-b618-eb6b283ec0aa",
   "metadata": {},
   "outputs": [],
   "source": [
    "from sklearn.metrics import make_scorer\n",
    "def model_accuracy_no_ramp(y_true, y_pred):\n",
    "    total = 0\n",
    "    correct = 0\n",
    "    for i in range(len(y_true)):\n",
    "        if y_true[i] == 0:\n",
    "            total += 1\n",
    "            if y_pred[i] == 0:\n",
    "                correct += 1\n",
    "    return correct / total"
   ]
  },
  {
   "cell_type": "markdown",
   "id": "1b6176de-97ad-426f-9ced-34d3c511b52d",
   "metadata": {},
   "source": [
    "While we will be also be using simple accuracy as a metric to determine how well our model is performing, we will also be using the accuracy of no ramp (defined above) as it is our measure of success."
   ]
  },
  {
   "cell_type": "code",
   "execution_count": 616,
   "id": "7f6dba60-ea49-4112-83fe-d01fea5fbecb",
   "metadata": {},
   "outputs": [],
   "source": [
    "# Split into train and test data\n",
    "X_train, X_test, y_train, y_test = train_test_split(data.drop('Wheelchair accessible', axis=1), data['Wheelchair accessible'],test_size=0.2,random_state=34, stratify=data['Wheelchair accessible'])"
   ]
  },
  {
   "cell_type": "code",
   "execution_count": 617,
   "id": "d4fa140a-a052-4df0-8787-139c7ebbcb90",
   "metadata": {},
   "outputs": [
    {
     "name": "stdout",
     "output_type": "stream",
     "text": [
      "tuned hyperparameters :(best parameters)  {'C': 10.0, 'penalty': 'l2'}\n",
      "accuracy : 0.6136699628997447\n"
     ]
    }
   ],
   "source": [
    "# Since we have a binary target, we will use logistic regresstion for our model\n",
    "grid={\"C\":np.logspace(-3,3,7), \"penalty\":[\"l1\",\"l2\"]}# l1 lasso l2 ridge\n",
    "logreg=LogisticRegression()\n",
    "logreg_cv=GridSearchCV(logreg,grid,cv=5)\n",
    "logreg_cv.fit(X_train,y_train)\n",
    "\n",
    "print(\"tuned hyperparameters :(best parameters) \",logreg_cv.best_params_)\n",
    "print(\"accuracy :\",logreg_cv.best_score_)"
   ]
  },
  {
   "cell_type": "code",
   "execution_count": 626,
   "id": "25051a95-a6eb-403b-9381-8819c656b8c3",
   "metadata": {},
   "outputs": [
    {
     "name": "stdout",
     "output_type": "stream",
     "text": [
      "The logistic regression model has an accuracy score of 0.5706 and a no-ramp accuracy score of 0.5427.\n"
     ]
    }
   ],
   "source": [
    "logreg_model = LogisticRegression(C=10, penalty='l2')\n",
    "logreg_model.fit(X_train,y_train)\n",
    "y_pred_logreg = logreg_model.predict(X_test)\n",
    "\n",
    "logreg_score = logreg_model.score(X_test, y_test)\n",
    "logreg_no_ramp_score = model_accuracy_no_ramp(np.array(y_test), y_pred_logreg)\n",
    "print(\"The logistic regression model has an accuracy score of {} and a no-ramp accuracy score of {}.\".format(np.round(logreg_score, 4), np.round(logreg_no_ramp_score, 4)))"
   ]
  },
  {
   "cell_type": "markdown",
   "id": "9c3fbada-1210-40fa-bfcb-3c14826fa3b5",
   "metadata": {},
   "source": [
    "This accuracy is not great, so let's try other models to see if we can improve."
   ]
  },
  {
   "cell_type": "code",
   "execution_count": 619,
   "id": "db7620a6-88ee-4e4d-b1a2-dac74b0cedad",
   "metadata": {},
   "outputs": [
    {
     "name": "stdout",
     "output_type": "stream",
     "text": [
      "tuned hyperparameters :(best parameters)  {'max_features': 'auto', 'min_samples_split': 15, 'n_estimators': 200}\n",
      "accuracy : 0.6433593364273724\n"
     ]
    }
   ],
   "source": [
    "from sklearn.ensemble import RandomForestClassifier\n",
    "grid={\"n_estimators\":[25, 50, 100, 150, 200], 'min_samples_split':[5, 10, 15], 'max_features':['auto', 'sqrt', 'log2']}\n",
    "rf=RandomForestClassifier()\n",
    "rf_cv=GridSearchCV(rf,grid,cv=5)\n",
    "rf_cv.fit(X_train,y_train)\n",
    "\n",
    "print(\"tuned hyperparameters :(best parameters) \", rf_cv.best_params_)\n",
    "print(\"accuracy :\", rf_cv.best_score_)"
   ]
  },
  {
   "cell_type": "code",
   "execution_count": 627,
   "id": "57938306-de5c-48b0-a90e-f555be1b99b9",
   "metadata": {},
   "outputs": [
    {
     "name": "stdout",
     "output_type": "stream",
     "text": [
      "The random forest model has an accuracy score of 0.6111 and a no-ramp accuracy score of 0.5945.\n"
     ]
    }
   ],
   "source": [
    "rf_model = RandomForestClassifier(n_estimators=200, min_samples_split=15, max_features='auto') \n",
    "rf_model.fit(X_train,y_train)\n",
    "y_pred_rf = rf_model.predict(X_test)\n",
    "\n",
    "rf_score = rf_model.score(X_test, y_test)\n",
    "rf_no_ramp_score = model_accuracy_no_ramp(np.array(y_test), y_pred_rf)\n",
    "print(\"The random forest model has an accuracy score of {} and a no-ramp accuracy score of {}.\".format(np.round(rf_score, 4), np.round(rf_no_ramp_score, 4)))"
   ]
  },
  {
   "cell_type": "markdown",
   "id": "d494d164-7089-4c80-9780-787cb40fb981",
   "metadata": {},
   "source": [
    "Our accuracy is improving, but lets try to do better."
   ]
  },
  {
   "cell_type": "code",
   "execution_count": 621,
   "id": "f9d110be-791e-4b44-acf7-8b912704c3df",
   "metadata": {},
   "outputs": [
    {
     "name": "stdout",
     "output_type": "stream",
     "text": [
      "tuned hyperparameters :(best parameters)  {'learning_rate': 0.1, 'loss': 'deviance', 'n_estimators': 150}\n",
      "accuracy : 0.6512533679414296\n"
     ]
    }
   ],
   "source": [
    "from sklearn.ensemble import GradientBoostingClassifier\n",
    "grid={\"n_estimators\":[50, 100, 150, 200], 'loss':['deviance', 'exponential'], 'learning_rate':np.linspace(0.1, 1, 5)}\n",
    "gb=GradientBoostingClassifier()\n",
    "gb_cv=GridSearchCV(gb,grid,cv=5)\n",
    "gb_cv.fit(X_train,y_train)\n",
    "\n",
    "print(\"tuned hyperparameters :(best parameters) \", gb_cv.best_params_)\n",
    "print(\"accuracy :\", gb_cv.best_score_)"
   ]
  },
  {
   "cell_type": "code",
   "execution_count": 622,
   "id": "433d83f0-72d5-449e-8249-7cf6a357afae",
   "metadata": {},
   "outputs": [
    {
     "name": "stdout",
     "output_type": "stream",
     "text": [
      "The gradient boosting model has an accuracy score of 0.6171 and a no-ramp accuracy score of 0.6433.\n"
     ]
    }
   ],
   "source": [
    "gb_model = GradientBoostingClassifier(n_estimators=150, loss='deviance', learning_rate=0.1) \n",
    "gb_model.fit(X_train,y_train)\n",
    "y_pred_gb = gb_model.predict(X_test)\n",
    "\n",
    "gb_score = gb_model.score(X_test, y_test)\n",
    "gb_no_ramp_score = model_accuracy_no_ramp(np.array(y_test), y_pred_gb)\n",
    "print(\"The gradient boosting model has an accuracy score of {} and a no-ramp accuracy score of {}.\".format(np.round(gb_score, 4), np.round(gb_no_ramp_score, 4)))"
   ]
  },
  {
   "cell_type": "markdown",
   "id": "a119462c-edb1-4a32-827d-a98597391045",
   "metadata": {},
   "source": [
    "This is the best improvement we have seen so far!"
   ]
  },
  {
   "cell_type": "code",
   "execution_count": 623,
   "id": "c545a578-20e3-4a0e-9aec-e940227b4179",
   "metadata": {},
   "outputs": [
    {
     "name": "stdout",
     "output_type": "stream",
     "text": [
      "tuned hyperparameters :(best parameters)  {'learning_rate': 0.325, 'n_estimators': 50}\n",
      "accuracy : 0.6512568945816699\n"
     ]
    }
   ],
   "source": [
    "from sklearn.ensemble import AdaBoostClassifier\n",
    "\n",
    "grid={\"n_estimators\":[50, 100, 150, 200], 'learning_rate':np.linspace(0.1, 1, 5)}\n",
    "ada=GradientBoostingClassifier()\n",
    "ada_cv=GridSearchCV(ada,grid,cv=5)\n",
    "ada_cv.fit(X_train,y_train)\n",
    "\n",
    "print(\"tuned hyperparameters :(best parameters) \", ada_cv.best_params_)\n",
    "print(\"accuracy :\", ada_cv.best_score_)"
   ]
  },
  {
   "cell_type": "code",
   "execution_count": 624,
   "id": "c8f7b3c7-58ee-4bf1-ab66-eca9fa5ce268",
   "metadata": {},
   "outputs": [
    {
     "name": "stdout",
     "output_type": "stream",
     "text": [
      "The ada boosting model has an accuracy score of 0.5961 and a no-ramp accuracy score of 0.6463.\n"
     ]
    }
   ],
   "source": [
    "ada_model = GradientBoostingClassifier(n_estimators=100, learning_rate=0.55) \n",
    "ada_model.fit(X_train,y_train)\n",
    "y_pred_ada = ada_model.predict(X_test)\n",
    "\n",
    "ada_score = ada_model.score(X_test, y_test)\n",
    "ada_no_ramp_score = model_accuracy_no_ramp(np.array(y_test), y_pred_ada)\n",
    "print(\"The ada boosting model has an accuracy score of {} and a no-ramp accuracy score of {}.\".format(np.round(ada_score, 4), np.round(ada_no_ramp_score, 4)))"
   ]
  },
  {
   "cell_type": "markdown",
   "id": "69cbbaf1-8347-40ca-b1fc-1872df74d212",
   "metadata": {},
   "source": [
    "This is very similar to the previous model. In an attempt to gain a higher accuracy, we will ensemble our two best performing models."
   ]
  },
  {
   "cell_type": "code",
   "execution_count": 625,
   "id": "59d2c40a-9c2b-4294-9b3b-b7d1e7c35fb7",
   "metadata": {},
   "outputs": [
    {
     "name": "stdout",
     "output_type": "stream",
     "text": [
      "The ensemble model has a no-ramp accuracy score of 0.6616.\n"
     ]
    }
   ],
   "source": [
    "ensemble_proba = gb_model.predict_proba(X_test) + ada_model.predict_proba(X_test)\n",
    "y_pred_ensemble = np.where(ensemble_proba[:,0] > ensemble_proba[:,1], 0, 1)\n",
    "\n",
    "ensemble_no_ramp_score = model_accuracy_no_ramp(np.array(y_test), y_pred_ensemble)\n",
    "print(\"The ensemble model has a no-ramp accuracy score of {}.\".format(np.round(ensemble_no_ramp_score, 4)))"
   ]
  },
  {
   "cell_type": "markdown",
   "id": "866a17c2-78ed-4f27-9bb6-ffc496ecf479",
   "metadata": {},
   "source": [
    "This is an increase in model performance. In fact, we have almost we have almost achieved the ideal model requested in the case study description."
   ]
  },
  {
   "cell_type": "markdown",
   "id": "683c5c0f-147e-48d9-a648-e25007203ef6",
   "metadata": {},
   "source": [
    "# Results"
   ]
  },
  {
   "cell_type": "markdown",
   "id": "65727cc5-4a55-450d-adb8-d492209e9b12",
   "metadata": {},
   "source": [
    "### Data Exploration\n",
    "In our exploration of the data, we found that we had over 200 duplicate rows of information. After removal, we looked at our numeric features where we found outlier values in the form of venues with a high maximum occupancy. Looking closer at these values, we saw that most of these venues already had wheelchair access. This makes sense, since the larger venues in London will most likely have wheelchair access. Since we are trying to correctly predict when a venue does not have a ramp, I decided that we could remove the outliers from further analysis. This raised the question if this trend continued to present itself even in the lower occupancy venues. Looking at the graph, we see that this is definitely the case. The higher the maximum occupancy, the more likely the venue has wheelcahir access.\n",
    "\n",
    "Looking at the catergorical values, we applied a similar analysis and we found:\n",
    "- Super Venues are less likely to have wheelchair access.\n",
    "- Venues without wifi are less likely to have wheelchair access.\n",
    "- Venues that do not provide alchohol are less likely to have wheelchair access.\n",
    "- Whether venues that have ticketed events or have loud music events do not seem to have impact on wheelchair access.\n",
    "\n",
    "However, none of the trends in the categorical values were as showed more correlation than the numerical features. This leads me to believe that our most import features are: Theatre_max, max_standing, U-Shaped_max, Wifi, supervenue, and venue provides alcohol (in that order)."
   ]
  },
  {
   "cell_type": "markdown",
   "id": "31a3537b-4ad7-4d0a-8eb5-33765592cd85",
   "metadata": {},
   "source": [
    "### Modeling\n",
    "\n",
    "When modeling, I find that it is a good practice to start simple and slowly increase model complexity. I trained four classification models starting with the simplest, Logistic Regression, and getting more complex up to an AdaBoost model. The models no-ramp accuracy (accuracy of correctly predicting no ramp) kept increasing with the no-ramp accuracies of: 54.27%, 59.45%, 64.33%, 64.63%. In an attempt to increase the no-ramp accuracy, I combined the final two models and achieved an accuracy of 66.16%. Since this is greater than any of the single models, this combined, or ensemble, model is the best model. Additionally, this model nearly matches the ideal model in the case study, predicting no ramp venues correctly almost two-thirds of the time."
   ]
  },
  {
   "cell_type": "markdown",
   "id": "fc2c5d44-5288-4f71-a6ec-96f3ff44be41",
   "metadata": {},
   "source": [
    "### Future Work"
   ]
  },
  {
   "cell_type": "markdown",
   "id": "e1ce097a-04ae-4f6c-a13f-5135a6dfdf7a",
   "metadata": {},
   "source": [
    "In the future there are a few things we could try to improve the accuracy of the model. \n",
    "1. I'd like to try to build a model using only some of the features to see how they affect model performance. Perhaps a rolling training where we keep adding one feature at a time.\n",
    "2. I'd like to reintroduce the outliers to see if they improve my accuracy\n",
    "3. I'd like to try more models, such as SVMs and Gaussian Naive Bayes\n",
    "\n",
    "These three areas would be the best place to start when attempting to improve this model."
   ]
  },
  {
   "cell_type": "code",
   "execution_count": null,
   "id": "bb0f951c-96b2-43d2-b1c7-05677601aba1",
   "metadata": {},
   "outputs": [],
   "source": []
  },
  {
   "cell_type": "code",
   "execution_count": null,
   "id": "341a4db0-e650-4e64-a657-cb9a4f86da9f",
   "metadata": {},
   "outputs": [],
   "source": []
  },
  {
   "cell_type": "code",
   "execution_count": null,
   "id": "d78b7088-70a8-42cb-80a7-628acf604f95",
   "metadata": {},
   "outputs": [],
   "source": []
  },
  {
   "cell_type": "code",
   "execution_count": null,
   "id": "3e61fee0-f3ee-48a2-b033-eb78836a197e",
   "metadata": {},
   "outputs": [],
   "source": []
  },
  {
   "cell_type": "code",
   "execution_count": null,
   "id": "2a16a6dd-f081-4cd1-9f6e-803dcaa0d2b5",
   "metadata": {},
   "outputs": [],
   "source": []
  },
  {
   "cell_type": "code",
   "execution_count": null,
   "id": "81c04ef5-f7a7-472c-9f8a-1dfc2b9f45ea",
   "metadata": {},
   "outputs": [],
   "source": []
  },
  {
   "cell_type": "code",
   "execution_count": null,
   "id": "dae095a7-1dd2-44d3-a42d-0c8086dc11fd",
   "metadata": {},
   "outputs": [],
   "source": []
  },
  {
   "cell_type": "code",
   "execution_count": null,
   "id": "1f34e4ab-e354-4119-9ed7-803bbe0e5752",
   "metadata": {},
   "outputs": [],
   "source": []
  },
  {
   "cell_type": "code",
   "execution_count": null,
   "id": "0f7b9324-7e29-4d99-a18c-5a19d55138c1",
   "metadata": {},
   "outputs": [],
   "source": []
  },
  {
   "cell_type": "code",
   "execution_count": null,
   "id": "03bdd041-ad3b-430a-9a24-869c29d40da4",
   "metadata": {},
   "outputs": [],
   "source": []
  }
 ],
 "metadata": {
  "colab": {
   "name": "Welcome to DataCamp Workspaces.ipynb",
   "provenance": []
  },
  "kernelspec": {
   "display_name": "Python 3 (ipykernel)",
   "language": "python",
   "name": "python3"
  },
  "language_info": {
   "codemirror_mode": {
    "name": "ipython",
    "version": 3
   },
   "file_extension": ".py",
   "mimetype": "text/x-python",
   "name": "python",
   "nbconvert_exporter": "python",
   "pygments_lexer": "ipython3",
   "version": "3.8.10"
  }
 },
 "nbformat": 4,
 "nbformat_minor": 5
}
